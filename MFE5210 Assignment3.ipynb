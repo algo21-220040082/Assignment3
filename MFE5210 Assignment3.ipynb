{
 "cells": [
  {
   "cell_type": "code",
   "execution_count": 1,
   "metadata": {
    "scrolled": true
   },
   "outputs": [],
   "source": [
    "import tushare as ts\n",
    "\n",
    "import pandas as pd\n",
    "\n",
    "import numpy as np\n",
    "\n",
    "import matplotlib.pyplot as plt\n",
    "\n",
    "import seaborn as sns\n",
    "\n",
    "import scipy.optimize as sco\n",
    "\n",
    "%matplotlib inline"
   ]
  },
  {
   "cell_type": "code",
   "execution_count": 2,
   "metadata": {},
   "outputs": [],
   "source": [
    "stock_codes1 = ['600519']\n",
    "stock_codes2 = ['000858']\n",
    "stock_codes3 = ['002304']\n",
    "\n",
    "num_stocks1 = len(stock_codes1)\n",
    "num_stocks2 = len(stock_codes2)\n",
    "num_stocks3 = len(stock_codes3)\n",
    "\n",
    "stock_daily_quotes = {}"
   ]
  },
  {
   "cell_type": "code",
   "execution_count": 3,
   "metadata": {},
   "outputs": [
    {
     "name": "stdout",
     "output_type": "stream",
     "text": [
      "600519\n"
     ]
    }
   ],
   "source": [
    "import time\n",
    "\n",
    "for code1 in stock_codes1:\n",
    "    print(code1)"
   ]
  },
  {
   "cell_type": "code",
   "execution_count": 4,
   "metadata": {
    "scrolled": true
   },
   "outputs": [
    {
     "name": "stdout",
     "output_type": "stream",
     "text": [
      "000858\n"
     ]
    }
   ],
   "source": [
    "for code2 in stock_codes2:\n",
    "    print(code2)"
   ]
  },
  {
   "cell_type": "code",
   "execution_count": 5,
   "metadata": {},
   "outputs": [
    {
     "name": "stdout",
     "output_type": "stream",
     "text": [
      "002304\n"
     ]
    }
   ],
   "source": [
    "for code3 in stock_codes3:\n",
    "    print(code3)"
   ]
  },
  {
   "cell_type": "code",
   "execution_count": 6,
   "metadata": {},
   "outputs": [
    {
     "name": "stdout",
     "output_type": "stream",
     "text": [
      "本接口即将停止更新，请尽快使用Pro版接口：https://waditu.com/document/2\n"
     ]
    }
   ],
   "source": [
    "df1 = ts.get_k_data(code=code1, start='2016-04-01', end='2021-04-31')\n",
    "\n",
    "df1 = df1.set_index(['date'])\n",
    "\n",
    "df1[code1] = df1['close']\n",
    "\n",
    "stock_daily_quotes[code1] = df1[code1]\n",
    "\n",
    "time.sleep(1)"
   ]
  },
  {
   "cell_type": "code",
   "execution_count": 7,
   "metadata": {},
   "outputs": [
    {
     "name": "stdout",
     "output_type": "stream",
     "text": [
      "本接口即将停止更新，请尽快使用Pro版接口：https://waditu.com/document/2\n"
     ]
    }
   ],
   "source": [
    "df2 = ts.get_k_data(code=code2, start='2016-04-01', end='2021-04-31')\n",
    "\n",
    "df2 = df2.set_index(['date'])\n",
    "\n",
    "df2[code2] = df2['close']\n",
    "\n",
    "stock_daily_quotes[code2] = df2[code2]\n",
    "\n",
    "time.sleep(1)"
   ]
  },
  {
   "cell_type": "code",
   "execution_count": 8,
   "metadata": {},
   "outputs": [
    {
     "name": "stdout",
     "output_type": "stream",
     "text": [
      "本接口即将停止更新，请尽快使用Pro版接口：https://waditu.com/document/2\n"
     ]
    }
   ],
   "source": [
    "df3 = ts.get_k_data(code=code3, start='2016-04-01', end='2021-04-31')\n",
    "\n",
    "df3 = df3.set_index(['date'])\n",
    "\n",
    "df3[code3] = df3['close']\n",
    "\n",
    "stock_daily_quotes[code3] = df3[code3]\n",
    "\n",
    "time.sleep(1)"
   ]
  },
  {
   "cell_type": "code",
   "execution_count": 9,
   "metadata": {
    "scrolled": true
   },
   "outputs": [],
   "source": [
    "all_df = pd.concat([value for _, value in stock_daily_quotes.items()], axis=1)"
   ]
  },
  {
   "cell_type": "code",
   "execution_count": 10,
   "metadata": {
    "scrolled": true
   },
   "outputs": [
    {
     "data": {
      "text/html": [
       "<div>\n",
       "<style scoped>\n",
       "    .dataframe tbody tr th:only-of-type {\n",
       "        vertical-align: middle;\n",
       "    }\n",
       "\n",
       "    .dataframe tbody tr th {\n",
       "        vertical-align: top;\n",
       "    }\n",
       "\n",
       "    .dataframe thead th {\n",
       "        text-align: right;\n",
       "    }\n",
       "</style>\n",
       "<table border=\"1\" class=\"dataframe\">\n",
       "  <thead>\n",
       "    <tr style=\"text-align: right;\">\n",
       "      <th></th>\n",
       "      <th>600519</th>\n",
       "      <th>000858</th>\n",
       "      <th>002304</th>\n",
       "    </tr>\n",
       "    <tr>\n",
       "      <th>date</th>\n",
       "      <th></th>\n",
       "      <th></th>\n",
       "      <th></th>\n",
       "    </tr>\n",
       "  </thead>\n",
       "  <tbody>\n",
       "    <tr>\n",
       "      <th>2016-04-01</th>\n",
       "      <td>233.035</td>\n",
       "      <td>26.301</td>\n",
       "      <td>61.617</td>\n",
       "    </tr>\n",
       "    <tr>\n",
       "      <th>2016-04-05</th>\n",
       "      <td>233.444</td>\n",
       "      <td>26.385</td>\n",
       "      <td>62.084</td>\n",
       "    </tr>\n",
       "    <tr>\n",
       "      <th>2016-04-06</th>\n",
       "      <td>244.559</td>\n",
       "      <td>26.865</td>\n",
       "      <td>63.871</td>\n",
       "    </tr>\n",
       "    <tr>\n",
       "      <th>2016-04-07</th>\n",
       "      <td>241.611</td>\n",
       "      <td>26.113</td>\n",
       "      <td>60.868</td>\n",
       "    </tr>\n",
       "    <tr>\n",
       "      <th>2016-04-08</th>\n",
       "      <td>237.570</td>\n",
       "      <td>25.606</td>\n",
       "      <td>59.680</td>\n",
       "    </tr>\n",
       "  </tbody>\n",
       "</table>\n",
       "</div>"
      ],
      "text/plain": [
       "             600519  000858  002304\n",
       "date                               \n",
       "2016-04-01  233.035  26.301  61.617\n",
       "2016-04-05  233.444  26.385  62.084\n",
       "2016-04-06  244.559  26.865  63.871\n",
       "2016-04-07  241.611  26.113  60.868\n",
       "2016-04-08  237.570  25.606  59.680"
      ]
     },
     "execution_count": 10,
     "metadata": {},
     "output_type": "execute_result"
    }
   ],
   "source": [
    "all_df.head()"
   ]
  },
  {
   "cell_type": "code",
   "execution_count": 11,
   "metadata": {},
   "outputs": [],
   "source": [
    "def sortinoRatio(series):\n",
    "\n",
    "    r = series / series.shift(1) - 1\n",
    "\n",
    "    r = r.dropna()\n",
    "\n",
    "    sr = np.sqrt(252) * (r.mean()) / np.std(r[r < 0.027/365])\n",
    "\n",
    "    return sr"
   ]
  },
  {
   "cell_type": "code",
   "execution_count": 12,
   "metadata": {},
   "outputs": [],
   "source": [
    "def returnVolatility(series):\n",
    "\n",
    "    return_pcnt = series.pct_change(1)\n",
    "\n",
    "    volatility = np.std(return_pcnt)\n",
    "\n",
    "    return volatility"
   ]
  },
  {
   "cell_type": "code",
   "execution_count": 13,
   "metadata": {},
   "outputs": [],
   "source": [
    "def maximumDrawdown(series):\n",
    "\n",
    "    performance_list = list(series)\n",
    "\n",
    "    i = np.argmax(np.maximum.accumulate(performance_list) - performance_list)\n",
    "\n",
    "    j = np.argmax(performance_list[:i])\n",
    "\n",
    "    mdd = (performance_list[i] - performance_list[j]) / performance_list[j]\n",
    "\n",
    "    return mdd"
   ]
  },
  {
   "cell_type": "code",
   "execution_count": 14,
   "metadata": {},
   "outputs": [],
   "source": [
    "def calmarRatio(series):\n",
    "\n",
    "    r = series / series.shift(1) - 1\n",
    "\n",
    "    r = r.dropna()\n",
    "\n",
    "    mdd = maximumDrawdown(series)\n",
    "\n",
    "    return np.sqrt(252) * (r.mean()) / abs(mdd)"
   ]
  },
  {
   "cell_type": "code",
   "execution_count": 15,
   "metadata": {
    "scrolled": false
   },
   "outputs": [
    {
     "data": {
      "text/plain": [
       "2.5060416214278307"
      ]
     },
     "execution_count": 15,
     "metadata": {},
     "output_type": "execute_result"
    }
   ],
   "source": [
    "sortinoRatio(all_df['600519'])"
   ]
  },
  {
   "cell_type": "code",
   "execution_count": 16,
   "metadata": {
    "scrolled": true
   },
   "outputs": [
    {
     "data": {
      "text/plain": [
       "0.019287362373496746"
      ]
     },
     "execution_count": 16,
     "metadata": {},
     "output_type": "execute_result"
    }
   ],
   "source": [
    "returnVolatility(all_df['600519'])"
   ]
  },
  {
   "cell_type": "code",
   "execution_count": 17,
   "metadata": {
    "scrolled": true
   },
   "outputs": [
    {
     "data": {
      "text/plain": [
       "-0.25529027297193385"
      ]
     },
     "execution_count": 17,
     "metadata": {},
     "output_type": "execute_result"
    }
   ],
   "source": [
    "maximumDrawdown(all_df['600519'])"
   ]
  },
  {
   "cell_type": "code",
   "execution_count": 18,
   "metadata": {
    "scrolled": true
   },
   "outputs": [
    {
     "data": {
      "text/plain": [
       "0.11986768320988292"
      ]
     },
     "execution_count": 18,
     "metadata": {},
     "output_type": "execute_result"
    }
   ],
   "source": [
    "calmarRatio(all_df['600519'])"
   ]
  },
  {
   "cell_type": "code",
   "execution_count": 19,
   "metadata": {},
   "outputs": [
    {
     "data": {
      "text/plain": [
       "2.3003033159087414"
      ]
     },
     "execution_count": 19,
     "metadata": {},
     "output_type": "execute_result"
    }
   ],
   "source": [
    "sortinoRatio(all_df['000858'])"
   ]
  },
  {
   "cell_type": "code",
   "execution_count": 20,
   "metadata": {},
   "outputs": [
    {
     "data": {
      "text/plain": [
       "0.02383274022511465"
      ]
     },
     "execution_count": 20,
     "metadata": {},
     "output_type": "execute_result"
    }
   ],
   "source": [
    "returnVolatility(all_df['000858'])"
   ]
  },
  {
   "cell_type": "code",
   "execution_count": 21,
   "metadata": {},
   "outputs": [
    {
     "data": {
      "text/plain": [
       "-0.29587688734030193"
      ]
     },
     "execution_count": 21,
     "metadata": {},
     "output_type": "execute_result"
    }
   ],
   "source": [
    "maximumDrawdown(all_df['000858'])"
   ]
  },
  {
   "cell_type": "code",
   "execution_count": 22,
   "metadata": {},
   "outputs": [
    {
     "data": {
      "text/plain": [
       "0.11866118364345338"
      ]
     },
     "execution_count": 22,
     "metadata": {},
     "output_type": "execute_result"
    }
   ],
   "source": [
    "calmarRatio(all_df['000858'])"
   ]
  },
  {
   "cell_type": "code",
   "execution_count": 23,
   "metadata": {},
   "outputs": [
    {
     "data": {
      "text/plain": [
       "1.2449929230193875"
      ]
     },
     "execution_count": 23,
     "metadata": {},
     "output_type": "execute_result"
    }
   ],
   "source": [
    "sortinoRatio(all_df['002304'])"
   ]
  },
  {
   "cell_type": "code",
   "execution_count": 24,
   "metadata": {},
   "outputs": [
    {
     "data": {
      "text/plain": [
       "0.024531231682618213"
      ]
     },
     "execution_count": 24,
     "metadata": {},
     "output_type": "execute_result"
    }
   ],
   "source": [
    "returnVolatility(all_df['002304'])"
   ]
  },
  {
   "cell_type": "code",
   "execution_count": 25,
   "metadata": {},
   "outputs": [
    {
     "data": {
      "text/plain": [
       "-0.429427379598028"
      ]
     },
     "execution_count": 25,
     "metadata": {},
     "output_type": "execute_result"
    }
   ],
   "source": [
    "maximumDrawdown(all_df['002304'])"
   ]
  },
  {
   "cell_type": "code",
   "execution_count": 26,
   "metadata": {},
   "outputs": [
    {
     "data": {
      "text/plain": [
       "0.04513590722372776"
      ]
     },
     "execution_count": 26,
     "metadata": {},
     "output_type": "execute_result"
    }
   ],
   "source": [
    "calmarRatio(all_df['002304'])"
   ]
  }
 ],
 "metadata": {
  "kernelspec": {
   "display_name": "Python 3",
   "language": "python",
   "name": "python3"
  },
  "language_info": {
   "codemirror_mode": {
    "name": "ipython",
    "version": 3
   },
   "file_extension": ".py",
   "mimetype": "text/x-python",
   "name": "python",
   "nbconvert_exporter": "python",
   "pygments_lexer": "ipython3",
   "version": "3.8.5"
  }
 },
 "nbformat": 4,
 "nbformat_minor": 4
}
